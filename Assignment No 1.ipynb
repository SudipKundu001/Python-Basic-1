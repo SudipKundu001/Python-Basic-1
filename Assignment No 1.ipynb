{
 "cells": [
  {
   "cell_type": "markdown",
   "id": "2a92459b",
   "metadata": {},
   "source": [
    "1.In the below elements which of them are values or an expression? eg:- values can be integer or string and expressions will be mathematical operators.\n",
    " \n",
    "1.    * \n",
    "2.    'hello'\n",
    "3.    -87.8\n",
    "4.    - \n",
    "5.    / \n",
    "6.    +\t\n",
    "7.    6 "
   ]
  },
  {
   "cell_type": "markdown",
   "id": "42efea85",
   "metadata": {},
   "source": [
    "Ans. Values : 'hello',  -87.8,  6\n",
    "     expressions: *,   -,  /,  ."
   ]
  },
  {
   "cell_type": "markdown",
   "id": "09ac129d",
   "metadata": {},
   "source": [
    "2. What is the difference between string and variable?"
   ]
  },
  {
   "cell_type": "markdown",
   "id": "a2900181",
   "metadata": {},
   "source": [
    "Ans. A variable is basically the name of the location in the primary memory of your computer. \n",
    "This can be chosen by you. A variable can store everything from strings to numbers.\n",
    "A string is the values inside the quotes assigned to a string.\n",
    "\n",
    "example: A = [2,'iNuron']\n",
    "\n",
    "Here A is a veriable because it stores some value ie.2 and 'iNuron'. 2 is integer and 'iNuron' is string."
   ]
  },
  {
   "cell_type": "markdown",
   "id": "cb817e5a",
   "metadata": {},
   "source": [
    "3. Describe three different data types."
   ]
  },
  {
   "cell_type": "markdown",
   "id": "f33f59cc",
   "metadata": {},
   "source": [
    "Ans. \n",
    "1) Int – It stores the integers values that can be positive or negative and do not contain any decimal point.\n",
    "\n",
    "E.g – num1=10, num2 = 15\n",
    "\n",
    "2) Float – These are floating-point real numbers that stores the decimal values. It consists of integer and fraction parts.\n",
    "\n",
    "E.g – fnum = 25.4, fnum1=67.8\n",
    "\n",
    "3) Complex – These are complex numbers specified as a real part and an imaginary part. \n",
    "They are stored in the form of a + bj where a is the real part and j represents the imaginary part.\n",
    "E.g – num3= 2 + 3j, numcom = 5 – 7j"
   ]
  },
  {
   "cell_type": "markdown",
   "id": "d76d500a",
   "metadata": {},
   "source": [
    "4. What is an expression made up of? What do all expressions do?"
   ]
  },
  {
   "cell_type": "markdown",
   "id": "5ae70ab2",
   "metadata": {},
   "source": [
    "Ans.\n",
    "An expression is a construct made up of variables, operators, and method invocations, \n",
    "which are constructed according to the syntax of the language, that evaluates to a single value.\n",
    "example: x = 15 + 1.3"
   ]
  },
  {
   "cell_type": "markdown",
   "id": "1e6c66f6",
   "metadata": {},
   "source": [
    "5. This assignment statements, like spam = 10. What is the difference between an expression and a statement?"
   ]
  },
  {
   "cell_type": "markdown",
   "id": "c65fb250",
   "metadata": {},
   "source": [
    "Ans. Expression is made up of values, containers, and mathematical operators (operands) and the statement is just like \n",
    "a command that a python interpreter executes like print."
   ]
  },
  {
   "cell_type": "markdown",
   "id": "2785e3ca",
   "metadata": {},
   "source": [
    "6. After running the following code, what does the variable bacon contain?\n",
    "\n",
    "bacon = 22\n",
    "\n",
    "bacon + 1"
   ]
  },
  {
   "cell_type": "code",
   "execution_count": 4,
   "id": "6ce0b876",
   "metadata": {},
   "outputs": [
    {
     "name": "stdout",
     "output_type": "stream",
     "text": [
      "22\n"
     ]
    }
   ],
   "source": [
    "bacon =22\n",
    "bacon+1\n",
    "print(bacon)"
   ]
  },
  {
   "cell_type": "markdown",
   "id": "d3de5619",
   "metadata": {},
   "source": [
    "7. What should the values of the following two terms be?\n",
    "\n",
    "'spam' + 'spamspam'\n",
    "\n",
    "'spam' * 3\n"
   ]
  },
  {
   "cell_type": "code",
   "execution_count": 5,
   "id": "496f1ea2",
   "metadata": {},
   "outputs": [
    {
     "data": {
      "text/plain": [
       "'spamspamspam'"
      ]
     },
     "execution_count": 5,
     "metadata": {},
     "output_type": "execute_result"
    }
   ],
   "source": [
    "'spam'+'spamspam'\n"
   ]
  },
  {
   "cell_type": "code",
   "execution_count": 6,
   "id": "cf0d85b6",
   "metadata": {},
   "outputs": [
    {
     "data": {
      "text/plain": [
       "'spamspamspam'"
      ]
     },
     "execution_count": 6,
     "metadata": {},
     "output_type": "execute_result"
    }
   ],
   "source": [
    "'spam'*3"
   ]
  },
  {
   "cell_type": "markdown",
   "id": "33a98f4b",
   "metadata": {},
   "source": [
    "8. Why is eggs a valid variable name while 100 is invalid?"
   ]
  },
  {
   "cell_type": "markdown",
   "id": "e3e0ee8d",
   "metadata": {},
   "source": [
    "Ans.  Variable names cannot begin with a number in Python."
   ]
  },
  {
   "cell_type": "markdown",
   "id": "0016556c",
   "metadata": {},
   "source": [
    "9. What three functions can be used to get the integer, floating-point number, or string version of a value?"
   ]
  },
  {
   "cell_type": "markdown",
   "id": "8cb6d32d",
   "metadata": {},
   "source": [
    "Ans.  The int() , float() , and str( ) functions will evaluate to the integer, floating-point number, and string versions of the value passed to them."
   ]
  },
  {
   "cell_type": "code",
   "execution_count": 8,
   "id": "dd3a9b3f",
   "metadata": {},
   "outputs": [
    {
     "name": "stdout",
     "output_type": "stream",
     "text": [
      "6\n"
     ]
    }
   ],
   "source": [
    "a= 6.5\n",
    "print(int(a))"
   ]
  },
  {
   "cell_type": "code",
   "execution_count": 9,
   "id": "652b0d04",
   "metadata": {},
   "outputs": [
    {
     "name": "stdout",
     "output_type": "stream",
     "text": [
      "6.0\n"
     ]
    }
   ],
   "source": [
    "b= 6\n",
    "print(float(b))"
   ]
  },
  {
   "cell_type": "code",
   "execution_count": 12,
   "id": "d7480dd6",
   "metadata": {},
   "outputs": [
    {
     "name": "stdout",
     "output_type": "stream",
     "text": [
      "6\n",
      "<class 'str'>\n"
     ]
    }
   ],
   "source": [
    "c=6\n",
    "print(str(c))\n",
    "print(type(str(c)))"
   ]
  },
  {
   "cell_type": "markdown",
   "id": "38380a78",
   "metadata": {},
   "source": [
    "10. Why does this expression cause an error? How can you fix it?\n",
    "\n",
    "'I have eaten ' + 99 + ' burritos.'\n"
   ]
  },
  {
   "cell_type": "code",
   "execution_count": 13,
   "id": "bc70703d",
   "metadata": {},
   "outputs": [
    {
     "ename": "TypeError",
     "evalue": "can only concatenate str (not \"int\") to str",
     "output_type": "error",
     "traceback": [
      "\u001b[1;31m---------------------------------------------------------------------------\u001b[0m",
      "\u001b[1;31mTypeError\u001b[0m                                 Traceback (most recent call last)",
      "\u001b[1;32m<ipython-input-13-d24137131a5c>\u001b[0m in \u001b[0;36m<module>\u001b[1;34m\u001b[0m\n\u001b[1;32m----> 1\u001b[1;33m \u001b[1;34m'I have eaten '\u001b[0m \u001b[1;33m+\u001b[0m \u001b[1;36m99\u001b[0m \u001b[1;33m+\u001b[0m \u001b[1;34m' burritos.'\u001b[0m\u001b[1;33m\u001b[0m\u001b[1;33m\u001b[0m\u001b[0m\n\u001b[0m",
      "\u001b[1;31mTypeError\u001b[0m: can only concatenate str (not \"int\") to str"
     ]
    }
   ],
   "source": [
    "'I have eaten ' + 99 + ' burritos.'\n"
   ]
  },
  {
   "cell_type": "markdown",
   "id": "3d4af10a",
   "metadata": {},
   "source": [
    "'I have eaten ' is a string and 99 is a integer. String and integer can not be concatinate so, we have to convert the integer\n",
    "99 into string."
   ]
  },
  {
   "cell_type": "code",
   "execution_count": 15,
   "id": "6fa54595",
   "metadata": {},
   "outputs": [
    {
     "data": {
      "text/plain": [
       "'I have eaten 99 burritos.'"
      ]
     },
     "execution_count": 15,
     "metadata": {},
     "output_type": "execute_result"
    }
   ],
   "source": [
    "'I have eaten ' + str(99) + ' burritos.'"
   ]
  },
  {
   "cell_type": "markdown",
   "id": "958a75a0",
   "metadata": {},
   "source": [
    "Now it's working fine"
   ]
  }
 ],
 "metadata": {
  "kernelspec": {
   "display_name": "Python 3",
   "language": "python",
   "name": "python3"
  },
  "language_info": {
   "codemirror_mode": {
    "name": "ipython",
    "version": 3
   },
   "file_extension": ".py",
   "mimetype": "text/x-python",
   "name": "python",
   "nbconvert_exporter": "python",
   "pygments_lexer": "ipython3",
   "version": "3.8.8"
  }
 },
 "nbformat": 4,
 "nbformat_minor": 5
}
